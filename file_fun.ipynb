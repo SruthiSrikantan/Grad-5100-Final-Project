{
 "cells": [
  {
   "cell_type": "code",
   "execution_count": 1,
   "id": "723b8acc",
   "metadata": {},
   "outputs": [],
   "source": [
    "def extract_code_and_extension(code):\n",
    "    parts = code.split('_')\n",
    "    nnnnn = parts[1]\n",
    "    extension = parts[2]\n",
    "    return f\"{nnnnn}.{extension}\""
   ]
  },
  {
   "cell_type": "code",
   "execution_count": 2,
   "id": "0af5104e",
   "metadata": {},
   "outputs": [],
   "source": [
    "import os\n",
    "\n",
    "def create_files_from_codes(file_path):\n",
    "    # Create a directory 'expanded' if it doesn't exist\n",
    "    expanded_dir = 'expanded'\n",
    "    if not os.path.exists(expanded_dir):\n",
    "        os.makedirs(expanded_dir)\n",
    "    \n",
    "    with open(file_path, 'r') as file:\n",
    "        lines = file.readlines()\n",
    "        for line in lines:\n",
    "            code = line.strip()\n",
    "            nnnnn_extension = extract_code_and_extension(code)\n",
    "            nnnnn, extension = nnnnn_extension.split('.')\n",
    "            \n",
    "            # Write xxxxx into a file named nnnnn.extension\n",
    "            output_file = os.path.join(expanded_dir, f\"{nnnnn}.{extension}\")\n",
    "            with open(output_file, 'w') as output:\n",
    "                output.write(f\"{nnnnn}.\\n\")\n",
    "\n",
    "# Assuming 'codes.txt' is in the current working directory\n",
    "file_path = 'codes.txt'\n",
    "create_files_from_codes(file_path)"
   ]
  },
  {
   "cell_type": "code",
   "execution_count": null,
   "id": "7bfb1727",
   "metadata": {},
   "outputs": [],
   "source": []
  }
 ],
 "metadata": {
  "kernelspec": {
   "display_name": "Python 3 (ipykernel)",
   "language": "python",
   "name": "python3"
  },
  "language_info": {
   "codemirror_mode": {
    "name": "ipython",
    "version": 3
   },
   "file_extension": ".py",
   "mimetype": "text/x-python",
   "name": "python",
   "nbconvert_exporter": "python",
   "pygments_lexer": "ipython3",
   "version": "3.11.4"
  }
 },
 "nbformat": 4,
 "nbformat_minor": 5
}
